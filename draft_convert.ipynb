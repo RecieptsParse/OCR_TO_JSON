{
 "cells": [
  {
   "cell_type": "code",
   "execution_count": 1,
   "id": "0f390e49-9c1c-4607-af5a-d63026137a72",
   "metadata": {
    "tags": []
   },
   "outputs": [
    {
     "name": "stdout",
     "output_type": "stream",
     "text": [
      "Requirement already satisfied: pydantic in /Users/jeremiahdy/anaconda3/lib/python3.11/site-packages (2.5.1)\n",
      "Requirement already satisfied: annotated-types>=0.4.0 in /Users/jeremiahdy/anaconda3/lib/python3.11/site-packages (from pydantic) (0.6.0)\n",
      "Requirement already satisfied: pydantic-core==2.14.3 in /Users/jeremiahdy/anaconda3/lib/python3.11/site-packages (from pydantic) (2.14.3)\n",
      "Requirement already satisfied: typing-extensions>=4.6.1 in /Users/jeremiahdy/anaconda3/lib/python3.11/site-packages (from pydantic) (4.7.1)\n",
      "Note: you may need to restart the kernel to use updated packages.\n"
     ]
    }
   ],
   "source": [
    "pip install pydantic"
   ]
  },
  {
   "cell_type": "code",
   "execution_count": 2,
   "id": "9ea86a82-9971-4b4e-8c5b-ca2b13ec25b1",
   "metadata": {
    "tags": []
   },
   "outputs": [
    {
     "name": "stdout",
     "output_type": "stream",
     "text": [
      "Requirement already satisfied: langchain in /Users/jeremiahdy/anaconda3/lib/python3.11/site-packages (0.0.340)\n",
      "Requirement already satisfied: PyYAML>=5.3 in /Users/jeremiahdy/anaconda3/lib/python3.11/site-packages (from langchain) (6.0)\n",
      "Requirement already satisfied: SQLAlchemy<3,>=1.4 in /Users/jeremiahdy/anaconda3/lib/python3.11/site-packages (from langchain) (1.4.39)\n",
      "Requirement already satisfied: aiohttp<4.0.0,>=3.8.3 in /Users/jeremiahdy/anaconda3/lib/python3.11/site-packages (from langchain) (3.8.3)\n",
      "Requirement already satisfied: anyio<4.0 in /Users/jeremiahdy/anaconda3/lib/python3.11/site-packages (from langchain) (3.5.0)\n",
      "Requirement already satisfied: dataclasses-json<0.7,>=0.5.7 in /Users/jeremiahdy/anaconda3/lib/python3.11/site-packages (from langchain) (0.6.2)\n",
      "Requirement already satisfied: jsonpatch<2.0,>=1.33 in /Users/jeremiahdy/anaconda3/lib/python3.11/site-packages (from langchain) (1.33)\n",
      "Requirement already satisfied: langsmith<0.1.0,>=0.0.63 in /Users/jeremiahdy/anaconda3/lib/python3.11/site-packages (from langchain) (0.0.66)\n",
      "Requirement already satisfied: numpy<2,>=1 in /Users/jeremiahdy/anaconda3/lib/python3.11/site-packages (from langchain) (1.24.3)\n",
      "Requirement already satisfied: pydantic<3,>=1 in /Users/jeremiahdy/anaconda3/lib/python3.11/site-packages (from langchain) (2.5.1)\n",
      "Requirement already satisfied: requests<3,>=2 in /Users/jeremiahdy/anaconda3/lib/python3.11/site-packages (from langchain) (2.31.0)\n",
      "Requirement already satisfied: tenacity<9.0.0,>=8.1.0 in /Users/jeremiahdy/anaconda3/lib/python3.11/site-packages (from langchain) (8.2.2)\n",
      "Requirement already satisfied: attrs>=17.3.0 in /Users/jeremiahdy/anaconda3/lib/python3.11/site-packages (from aiohttp<4.0.0,>=3.8.3->langchain) (22.1.0)\n",
      "Requirement already satisfied: charset-normalizer<3.0,>=2.0 in /Users/jeremiahdy/anaconda3/lib/python3.11/site-packages (from aiohttp<4.0.0,>=3.8.3->langchain) (2.0.4)\n",
      "Requirement already satisfied: multidict<7.0,>=4.5 in /Users/jeremiahdy/anaconda3/lib/python3.11/site-packages (from aiohttp<4.0.0,>=3.8.3->langchain) (6.0.2)\n",
      "Requirement already satisfied: async-timeout<5.0,>=4.0.0a3 in /Users/jeremiahdy/anaconda3/lib/python3.11/site-packages (from aiohttp<4.0.0,>=3.8.3->langchain) (4.0.2)\n",
      "Requirement already satisfied: yarl<2.0,>=1.0 in /Users/jeremiahdy/anaconda3/lib/python3.11/site-packages (from aiohttp<4.0.0,>=3.8.3->langchain) (1.8.1)\n",
      "Requirement already satisfied: frozenlist>=1.1.1 in /Users/jeremiahdy/anaconda3/lib/python3.11/site-packages (from aiohttp<4.0.0,>=3.8.3->langchain) (1.3.3)\n",
      "Requirement already satisfied: aiosignal>=1.1.2 in /Users/jeremiahdy/anaconda3/lib/python3.11/site-packages (from aiohttp<4.0.0,>=3.8.3->langchain) (1.2.0)\n",
      "Requirement already satisfied: idna>=2.8 in /Users/jeremiahdy/anaconda3/lib/python3.11/site-packages (from anyio<4.0->langchain) (3.4)\n",
      "Requirement already satisfied: sniffio>=1.1 in /Users/jeremiahdy/anaconda3/lib/python3.11/site-packages (from anyio<4.0->langchain) (1.2.0)\n",
      "Requirement already satisfied: marshmallow<4.0.0,>=3.18.0 in /Users/jeremiahdy/anaconda3/lib/python3.11/site-packages (from dataclasses-json<0.7,>=0.5.7->langchain) (3.20.1)\n",
      "Requirement already satisfied: typing-inspect<1,>=0.4.0 in /Users/jeremiahdy/anaconda3/lib/python3.11/site-packages (from dataclasses-json<0.7,>=0.5.7->langchain) (0.9.0)\n",
      "Requirement already satisfied: jsonpointer>=1.9 in /Users/jeremiahdy/anaconda3/lib/python3.11/site-packages (from jsonpatch<2.0,>=1.33->langchain) (2.1)\n",
      "Requirement already satisfied: annotated-types>=0.4.0 in /Users/jeremiahdy/anaconda3/lib/python3.11/site-packages (from pydantic<3,>=1->langchain) (0.6.0)\n",
      "Requirement already satisfied: pydantic-core==2.14.3 in /Users/jeremiahdy/anaconda3/lib/python3.11/site-packages (from pydantic<3,>=1->langchain) (2.14.3)\n",
      "Requirement already satisfied: typing-extensions>=4.6.1 in /Users/jeremiahdy/anaconda3/lib/python3.11/site-packages (from pydantic<3,>=1->langchain) (4.7.1)\n",
      "Requirement already satisfied: urllib3<3,>=1.21.1 in /Users/jeremiahdy/anaconda3/lib/python3.11/site-packages (from requests<3,>=2->langchain) (1.26.16)\n",
      "Requirement already satisfied: certifi>=2017.4.17 in /Users/jeremiahdy/anaconda3/lib/python3.11/site-packages (from requests<3,>=2->langchain) (2023.7.22)\n",
      "Requirement already satisfied: packaging>=17.0 in /Users/jeremiahdy/anaconda3/lib/python3.11/site-packages (from marshmallow<4.0.0,>=3.18.0->dataclasses-json<0.7,>=0.5.7->langchain) (23.0)\n",
      "Requirement already satisfied: mypy-extensions>=0.3.0 in /Users/jeremiahdy/anaconda3/lib/python3.11/site-packages (from typing-inspect<1,>=0.4.0->dataclasses-json<0.7,>=0.5.7->langchain) (0.4.3)\n",
      "Note: you may need to restart the kernel to use updated packages.\n"
     ]
    }
   ],
   "source": [
    "pip install langchain"
   ]
  },
  {
   "cell_type": "code",
   "execution_count": 3,
   "id": "3650ed9e-83be-4570-9ee1-15578db0af28",
   "metadata": {
    "tags": []
   },
   "outputs": [],
   "source": [
    "from pydantic import BaseModel, Field\n",
    "from typing import List\n",
    "from enum import Enum\n",
    "\n",
    "class SubItem(BaseModel):\n",
    "    description: str\n",
    "\n",
    "class PaymentType(Enum):\n",
    "    CREDIT = 'credit'\n",
    "    DEBIT = 'debit'\n",
    "    CASH = 'cash'\n",
    "    \n",
    "class Item(BaseModel):\n",
    "    description: str=Field(default=\"<UNKNOWN>\", description=\"name\")\n",
    "    includedItems: List[SubItem]=Field(default_factory=list)\n",
    "    quantity: int=Field(default=0, description=\"number of items\")\n",
    "    unitPrice: float=Field(default=0.00, description=\"cost per unit\")\n",
    "    totalPrice: float=Field(default=0.00, description=\"total cost of unit(s) purchased\")\n",
    "    discountAmount: float=Field(default=0.00, description=\"discount for item\")\n",
    "\n",
    "class ReceiptInfo(BaseModel):\n",
    "    merchant: str=Field(description=\"name of merchant\")\n",
    "    address: str=Field(description=\"address\")\n",
    "    city: str=Field(description=\"city\")\n",
    "    state: str=Field(description=\"state\")\n",
    "    phoneNumber: str=Field(default=\"<UNKNOWN>\", description=\"phone number\")\n",
    "    receiptDate: str=Field(default=\"1/01/1991\", description=\"purchase date\")\n",
    "    receiptTime: str=Field(default=\"00:00:00\", description=\"time purchased\")\n",
    "    totalItems: int=Field(default=0, description=\"number of items\")\n",
    "    diningOptions: str=Field(default=\"None\", description=\"here or to-go items for consumable items\")\n",
    "    paymentType: PaymentType=Field(default=\"cash\", description=\"payment method\")\n",
    "    creditCardType: str=Field(default=\"<UNKNOWN>\", description=\"credit card type\")\n",
    "    totalDiscount: float=Field(default=0.00, description=\"total discount\")\n",
    "    tax: float=Field(default=0.00, description=\"tax amount\")\n",
    "    total: float=Field(default=0.00, description=\"total amount paid\")\n",
    "    ITEMS: List[Item]\n",
    "    \n",
    "# As ITEMS is the only category in any of the classes that doesn't have a default value, it is the only category that is REQUIRED"
   ]
  },
  {
   "cell_type": "code",
   "execution_count": 4,
   "id": "7f22ce0b-a9c2-4451-bdc5-a8656c6a0c82",
   "metadata": {
    "tags": []
   },
   "outputs": [
    {
     "name": "stdout",
     "output_type": "stream",
     "text": [
      "The output should be formatted as a JSON instance that conforms to the JSON schema below.\n",
      "\n",
      "As an example, for the schema {\"properties\": {\"foo\": {\"title\": \"Foo\", \"description\": \"a list of strings\", \"type\": \"array\", \"items\": {\"type\": \"string\"}}}, \"required\": [\"foo\"]}\n",
      "the object {\"foo\": [\"bar\", \"baz\"]} is a well-formatted instance of the schema. The object {\"properties\": {\"foo\": [\"bar\", \"baz\"]}} is not well-formatted.\n",
      "\n",
      "Here is the output schema:\n",
      "```\n",
      "{\"$defs\": {\"Item\": {\"properties\": {\"description\": {\"default\": \"<UNKNOWN>\", \"description\": \"the name of the item\", \"title\": \"Description\", \"type\": \"string\"}, \"includedItems\": {\"items\": {\"$ref\": \"#/$defs/SubItem\"}, \"title\": \"Includeditems\", \"type\": \"array\"}, \"quantity\": {\"default\": 0, \"description\": \"how many of this item was purchased\", \"title\": \"Quantity\", \"type\": \"integer\"}, \"unitPrice\": {\"default\": 0.0, \"description\": \"the cost of one unit\", \"title\": \"Unitprice\", \"type\": \"number\"}, \"totalPrice\": {\"default\": 0.0, \"description\": \"the total cost of the quantity purchased\", \"title\": \"Totalprice\", \"type\": \"number\"}, \"discountAmount\": {\"default\": 0.0, \"description\": \"the discount given by the merchant for this item\", \"title\": \"Discountamount\", \"type\": \"number\"}}, \"title\": \"Item\", \"type\": \"object\"}, \"PaymentType\": {\"enum\": [\"credit\", \"debit\", \"cash\"], \"title\": \"PaymentType\", \"type\": \"string\"}, \"SubItem\": {\"properties\": {\"description\": {\"title\": \"Description\", \"type\": \"string\"}}, \"required\": [\"description\"], \"title\": \"SubItem\", \"type\": \"object\"}}, \"properties\": {\"merchant\": {\"description\": \"the merchant providing items for sale\", \"title\": \"Merchant\", \"type\": \"string\"}, \"address\": {\"description\": \"the address\", \"title\": \"Address\", \"type\": \"string\"}, \"city\": {\"description\": \"the city\", \"title\": \"City\", \"type\": \"string\"}, \"state\": {\"description\": \"the state\", \"title\": \"State\", \"type\": \"string\"}, \"phoneNumber\": {\"default\": \"<UNKNOWN>\", \"description\": \"the phone number\", \"title\": \"Phonenumber\", \"type\": \"string\"}, \"receiptDate\": {\"default\": \"1/01/1991\", \"description\": \"the purchase date\", \"title\": \"Receiptdate\", \"type\": \"string\"}, \"receiptTime\": {\"default\": \"00:00:00\", \"description\": \"the time of day of the purchase\", \"title\": \"Receipttime\", \"type\": \"string\"}, \"totalItems\": {\"default\": 0, \"description\": \"how many items were purchased\", \"title\": \"Totalitems\", \"type\": \"integer\"}, \"diningOptions\": {\"default\": \"None\", \"description\": \"whether the goods were purchased for-here or to-go (edible consumables only)\", \"title\": \"Diningoptions\", \"type\": \"string\"}, \"paymentType\": {\"allOf\": [{\"$ref\": \"#/$defs/PaymentType\"}], \"default\": \"cash\", \"description\": \"whether the customer paid with cash, credit card, or debit card\"}, \"creditCardType\": {\"default\": \"<UNKNOWN>\", \"description\": \"the type of credit card used, if any\", \"title\": \"Creditcardtype\", \"type\": \"string\"}, \"tax\": {\"default\": 0.0, \"description\": \"the amount of tax paid\", \"title\": \"Tax\", \"type\": \"number\"}, \"total\": {\"default\": 0.0, \"description\": \"the total amount paid\", \"title\": \"Total\", \"type\": \"number\"}, \"totalDiscount\": {\"default\": 0.0, \"description\": \"the total discount given\", \"title\": \"Totaldiscount\", \"type\": \"number\"}, \"ITEMS\": {\"items\": {\"$ref\": \"#/$defs/Item\"}, \"title\": \"Items\", \"type\": \"array\"}}, \"required\": [\"merchant\", \"address\", \"city\", \"state\", \"ITEMS\"]}\n",
      "```\n"
     ]
    }
   ],
   "source": [
    "from langchain.output_parsers import PydanticOutputParser\n",
    "\n",
    "receiptParser = PydanticOutputParser(pydantic_object=ReceiptInfo)\n",
    "print(receiptParser.get_format_instructions())"
   ]
  },
  {
   "cell_type": "code",
   "execution_count": 5,
   "id": "9694a66f-8626-4c5d-b0fc-67f5cac785d9",
   "metadata": {
    "tags": []
   },
   "outputs": [
    {
     "name": "stdout",
     "output_type": "stream",
     "text": [
      "merchant='Walmart' address='123 Manoa Rd' city='Honolulu' state='HI' phoneNumber='1234567890' receiptDate='01/01/1999' receiptTime='12:00am' totalItems=2 diningOptions='None' paymentType=<PaymentType.CREDIT: 'credit'> creditCardType='visa' tax=1.0 total=10.0 totalDiscount=0.01 ITEMS=[Item(description='PEDANTIC PEAS', includedItems=[], quantity=1, unitPrice=5.0, totalPrice=5.0, discountAmount=0.0), Item(description='CRAZY CARROTS', includedItems=[], quantity=1, unitPrice=5.0, totalPrice=5.0, discountAmount=0.0)]\n"
     ]
    }
   ],
   "source": [
    "item_1 = Item(description=\"PEDANTIC PEAS\", quantity=1, unitPrice=5.00, totalPrice=5.00, discountAmount=0.00)\n",
    "item_2 = Item(description=\"CRAZY CARROTS\", quantity=1, unitPrice=5.00, totalPrice=5.00, discountAmount=0.00)\n",
    "\n",
    "receiptInfo = ReceiptInfo(merchant=\"Walmart\", address=\"123 Manoa Rd\", city=\"Honolulu\", state=\"HI\", phoneNumber=\"1234567890\",\n",
    "                          receiptDate=\"01/01/1999\", receiptTime=\"12:00am\", totalItems=2, paymentType=\"credit\",\n",
    "                          creditCardType=\"visa\", tax=1.00, total=10.00, totalDiscount=0.01, ITEMS=[item_1, item_2])\n",
    "print(receiptInfo)"
   ]
  },
  {
   "cell_type": "code",
   "execution_count": null,
   "id": "c46ed2fb-ffe3-4b03-b9ba-916b73f2f361",
   "metadata": {},
   "outputs": [],
   "source": []
  }
 ],
 "metadata": {
  "kernelspec": {
   "display_name": "Python 3 (ipykernel)",
   "language": "python",
   "name": "python3"
  },
  "language_info": {
   "codemirror_mode": {
    "name": "ipython",
    "version": 3
   },
   "file_extension": ".py",
   "mimetype": "text/x-python",
   "name": "python",
   "nbconvert_exporter": "python",
   "pygments_lexer": "ipython3",
   "version": "3.11.4"
  }
 },
 "nbformat": 4,
 "nbformat_minor": 5
}
