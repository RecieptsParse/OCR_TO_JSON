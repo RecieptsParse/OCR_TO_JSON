{
 "cells": [
  {
   "cell_type": "code",
   "execution_count": 14,
   "id": "7ab24f09",
   "metadata": {
    "scrolled": true
   },
   "outputs": [],
   "source": [
    "%%capture\n",
    "!pip install sentence_transformers\n",
    "!pip install faiss-cpu"
   ]
  },
  {
   "cell_type": "code",
   "execution_count": 15,
   "id": "e3641ba6",
   "metadata": {},
   "outputs": [],
   "source": [
    "from sentence_transformers import SentenceTransformer\n",
    "import faiss\n",
    "import numpy as np\n",
    "import pickle"
   ]
  },
  {
   "cell_type": "code",
   "execution_count": 30,
   "id": "3ba9a885",
   "metadata": {},
   "outputs": [],
   "source": [
    "model = SentenceTransformer(\"BAAI/bge-large-en-v1.5\")\n",
    "dimensions = 1024\n",
    "index = faiss.IndexFlatL2(dimensions)\n",
    "vendor_categories  = {\n",
    "    \"Grocery and Supermarkets\": [\n",
    "        \"food products.\",\n",
    "        \"various household items.\",\n",
    "        \"personal care products.\"\n",
    "    ],\n",
    "    \"Restaurants and Food Services\": [\n",
    "        \"places to eat.\",\n",
    "        \"fast food.\",\n",
    "        \"dining establishment.\",\n",
    "        \"take-out, for-here, delivery.\"\n",
    "    ],\n",
    "    \"Clothing and Apparel\": [\n",
    "        \"Stores selling a variety of clothing.\",\n",
    "        \"footwear.\",\n",
    "        \"fashion.\",\n",
    "        \"clothing styles.\"\n",
    "    ],\n",
    "    \"Health and Beauty\": [\n",
    "        \"pharmacies.\",\n",
    "        \"beauty supply stores.\",\n",
    "        \"health products.\",\n",
    "        \"personal care products.\"\n",
    "    ],\n",
    "    \"Electronics and Appliances\": [\n",
    "        \"consumer electronics.\",\n",
    "        \"household appliances.\",\n",
    "        \"accessories for electronics and appliances.\"\n",
    "    ],\n",
    "    \"Home and Garden\": [\n",
    "        \"home improvement.\",\n",
    "        \"gardening supplies.\",\n",
    "        \"furniture.\",\n",
    "        \"home decor.\"\n",
    "    ],\n",
    "    \"Entertainment and Leisure\": [\n",
    "        \"movie theaters.\",\n",
    "        \"bookstores.\",\n",
    "        \"hobby shops.\",\n",
    "        \"various entertainment goods and services.\"\n",
    "    ]\n",
    "}\n",
    "\n",
    "vendor_embeddings_mapping = {}\n",
    "current_index = 0\n",
    "\n",
    "for vendor, descriptions in vendor_categories.items():\n",
    "    for description in descriptions:\n",
    "        embedding = model.encode(description)\n",
    "        index.add(np.array([embedding]))\n",
    "        vendor_embeddings_mapping[current_index] = vendor\n",
    "        current_index += 1\n",
    "\n",
    "#faiss.write_index(index, \"embeddings.index\")\n",
    "#with open('vendor_mapping.pk1', 'wb') as f:\n",
    "    #pickle.dump(vendor_embeddings_mapping, f)\n",
    "    "
   ]
  },
  {
   "cell_type": "code",
   "execution_count": 32,
   "id": "c0f593db",
   "metadata": {},
   "outputs": [
    {
     "name": "stdout",
     "output_type": "stream",
     "text": [
      "26\n",
      "1024\n"
     ]
    }
   ],
   "source": [
    "# can use these for asserts in test.p\n",
    "print(index.ntotal,\n",
    "      index.d,\n",
    "      sep='\\n')"
   ]
  },
  {
   "cell_type": "code",
   "execution_count": 58,
   "id": "1655e60c",
   "metadata": {},
   "outputs": [
    {
     "name": "stdout",
     "output_type": "stream",
     "text": [
      "Distance to nearest neighboor \n",
      "[[0.7543362  0.81793356 0.82922924 0.8447415  0.88138545]]\n",
      "\n",
      "Index of neighboor in database \n",
      "[[14  1 17 19 13]]\n",
      "\n",
      "['Health and Beauty', 'Grocery and Supermarkets', 'Electronics and Appliances', 'Home and Garden', 'Health and Beauty']\n",
      "\n",
      "Health and Beauty\n"
     ]
    }
   ],
   "source": [
    "#search with KNN\n",
    "\n",
    "from collections import Counter\n",
    "test_embedding = model.encode(\"Longs CFRIO SF PEG BAG CR GYSR SPR WTR BOTTLE DEPOSIT\")\n",
    "distances, indices = index.search(np.array([test_embedding]), 5)\n",
    "vendors = [vendor_embeddings_mapping[idx] for idx in indices[0]]\n",
    "most_common_vendor = Counter(vendors).most_common(1)[0][0]\n",
    "print(f'Distance to nearest neighboor \\n{distances}', \n",
    "     f'Index of neighboor in database \\n{indices}',\n",
    "     vendors,\n",
    "     most_common_vendor,\n",
    "     sep=\"\\n\\n\")"
   ]
  },
  {
   "cell_type": "code",
   "execution_count": null,
   "id": "b50bb46f",
   "metadata": {},
   "outputs": [],
   "source": []
  }
 ],
 "metadata": {
  "kernelspec": {
   "display_name": "Python 3 (ipykernel)",
   "language": "python",
   "name": "python3"
  },
  "language_info": {
   "codemirror_mode": {
    "name": "ipython",
    "version": 3
   },
   "file_extension": ".py",
   "mimetype": "text/x-python",
   "name": "python",
   "nbconvert_exporter": "python",
   "pygments_lexer": "ipython3",
   "version": "3.10.13"
  }
 },
 "nbformat": 4,
 "nbformat_minor": 5
}
